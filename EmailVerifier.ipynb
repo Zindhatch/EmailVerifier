{
  "nbformat": 4,
  "nbformat_minor": 0,
  "metadata": {
    "colab": {
      "name": "EmailVerifier.ipynb",
      "provenance": [],
      "collapsed_sections": []
    },
    "kernelspec": {
      "name": "python3",
      "display_name": "Python 3"
    },
    "language_info": {
      "name": "python"
    }
  },
  "cells": [
    {
      "cell_type": "code",
      "execution_count": 1,
      "metadata": {
        "colab": {
          "base_uri": "https://localhost:8080/"
        },
        "id": "Hc9DQnP3iKjb",
        "outputId": "655cc27b-04bc-42ca-97cc-42e4877af1b3"
      },
      "outputs": [
        {
          "output_type": "stream",
          "name": "stdout",
          "text": [
            "Looking in indexes: https://pypi.org/simple, https://us-python.pkg.dev/colab-wheels/public/simple/\n",
            "Collecting dnspython\n",
            "  Downloading dnspython-2.2.1-py3-none-any.whl (269 kB)\n",
            "\u001b[K     |████████████████████████████████| 269 kB 6.6 MB/s \n",
            "\u001b[?25hCollecting phonenumbers\n",
            "  Downloading phonenumbers-8.12.49-py2.py3-none-any.whl (2.6 MB)\n",
            "\u001b[K     |████████████████████████████████| 2.6 MB 40.5 MB/s \n",
            "\u001b[?25hInstalling collected packages: phonenumbers, dnspython\n",
            "Successfully installed dnspython-2.2.1 phonenumbers-8.12.49\n"
          ]
        }
      ],
      "source": [
        "!pip install dnspython phonenumbers"
      ]
    },
    {
      "cell_type": "code",
      "source": [
        "import smtplib\n",
        "import dns.resolver\n",
        "import re\n",
        "\n",
        "def isEmailValidDnsLookup(email):\n",
        "    # verify email using dns lookup\n",
        "    email = str(email).strip()\n",
        "    user, domain = email.split('@')\n",
        "    ips = dns.resolver.resolve(domain, 'MX')\n",
        "    for ip in ips:\n",
        "        try:\n",
        "            mxRecord = ip.exchange.to_text()\n",
        "            smtp = smtplib.SMTP(mxRecord)\n",
        "            smtp.ehlo(domain)\n",
        "            smtp.docmd(\"mail from:<sender@example.io>\")\n",
        "            status, message = smtp.docmd(\"rcpt to:<\"+email+\">\")\n",
        "            if status != 250:\n",
        "              print(status,message)\n",
        "              return False\n",
        "            smtp.quit()\n",
        "            return True\n",
        "        except BaseException as e:\n",
        "            print(e)\n",
        "            continue\n",
        "    return False\n",
        "\n",
        "def isEmailFormatValid(email):\n",
        "    if len(email.strip()) == 0:\n",
        "        return False\n",
        "    try:\n",
        "        return bool(re.search('''(?!.*\\.{2})^([a-z\\d!#$%&'*+\\-\\/=?^_`{|}~\\u00A0-\\uD7FF\\uF900-\\uFDCF\\uFDF0-\\uFFEF]+(\\.[a-z\\d!#$%&'*+\\-\\/=?^_`{|}~\\u00A0-\\uD7FF\\uF900-\\uFDCF\\uFDF0-\\uFFEF]+)*|\"((([\\t]*\\r\\n)?[\\t]+)?([\\x01-\\x08\\x0b\\x0c\\x0e-\\x1f\\x7f\\x21\\x23-\\x5b\\x5d-\\x7e\\u00A0-\\uD7FF\\uF900-\\uFDCF\\uFDF0-\\uFFEF]|\\\\[\\x01-\\x09\\x0b\\x0c\\x0d-\\x7f\\u00A0-\\uD7FF\\uF900-\\uFDCF\\uFDF0-\\uFFEF]))*(([\\t]*\\r\\n)?[\\t]+)?\")@(([a-z\\d\\u00A0-\\uD7FF\\uF900-\\uFDCF\\uFDF0-\\uFFEF]|[a-z\\d\\u00A0-\\uD7FF\\uF900-\\uFDCF\\uFDF0-\\uFFEF][a-z\\d\\-._~\\u00A0-\\uD7FF\\uF900-\\uFDCF\\uFDF0-\\uFFEF]*[a-z\\d\\u00A0-\\uD7FF\\uF900-\\uFDCF\\uFDF0-\\uFFEF])\\.)+([a-z\\u00A0-\\uD7FF\\uF900-\\uFDCF\\uFDF0-\\uFFEF]|[a-z\\u00A0-\\uD7FF\\uF900-\\uFDCF\\uFDF0-\\uFFEF][a-z\\d\\-._~\\u00A0-\\uD7FF\\uF900-\\uFDCF\\uFDF0-\\uFFEF]*[a-z\\u00A0-\\uD7FF\\uF900-\\uFDCF\\uFDF0-\\uFFEF])\\.?$''', email))\n",
        "    except:\n",
        "        return False\n",
        "\n",
        "def extractValidEmails(emails):\n",
        "    print(emails)\n",
        "    validEmails = list()\n",
        "    for email in emails:\n",
        "        email = email.strip()\n",
        "        if len(email) == 0:\n",
        "            continue\n",
        "        if isEmailFormatValid(email) and isEmailFormatValid(email):\n",
        "            validEmails.append(email)\n",
        "    return validEmails"
      ],
      "metadata": {
        "id": "UPqLf0y7iPVR"
      },
      "execution_count": 2,
      "outputs": []
    },
    {
      "cell_type": "code",
      "source": [
        "listOfEmails = [\"info@vivaladirtleague.com\",\"worngMail@someservercheck.kon\"]\n",
        "print(extractValidEmails(listOfEmails))"
      ],
      "metadata": {
        "colab": {
          "base_uri": "https://localhost:8080/"
        },
        "id": "TePCISl7iTVs",
        "outputId": "9b94b967-71b7-4b5d-b7eb-4ccea0905d82"
      },
      "execution_count": 7,
      "outputs": [
        {
          "output_type": "stream",
          "name": "stdout",
          "text": [
            "['info@vivaladirtleague.com', 'worngMail@someservercheck.kon']\n",
            "['info@vivaladirtleague.com']\n"
          ]
        }
      ]
    }
  ]
}